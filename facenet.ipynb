{
  "nbformat": 4,
  "nbformat_minor": 0,
  "metadata": {
    "colab": {
      "name": "Untitled2.ipynb",
      "provenance": [],
      "authorship_tag": "ABX9TyNQu+Njwmcgcz6nmzZuzx+M",
      "include_colab_link": true
    },
    "kernelspec": {
      "name": "python3",
      "display_name": "Python 3"
    }
  },
  "cells": [
    {
      "cell_type": "markdown",
      "metadata": {
        "id": "view-in-github",
        "colab_type": "text"
      },
      "source": [
        "<a href=\"https://colab.research.google.com/github/afadaarugia/facenet/blob/master/facenet.ipynb\" target=\"_parent\"><img src=\"https://colab.research.google.com/assets/colab-badge.svg\" alt=\"Open In Colab\"/></a>"
      ]
    },
    {
      "cell_type": "code",
      "metadata": {
        "colab": {
          "base_uri": "https://localhost:8080/"
        },
        "id": "BZGvmH-43FlX",
        "outputId": "15227ced-bcfe-4b42-e0fe-d26c73e13c18"
      },
      "source": [
        "!git clone https://github.com/afadaarugia/facenet"
      ],
      "execution_count": 1,
      "outputs": [
        {
          "output_type": "stream",
          "text": [
            "Cloning into 'facenet'...\n",
            "remote: Enumerating objects: 3149, done.\u001b[K\n",
            "remote: Total 3149 (delta 0), reused 0 (delta 0), pack-reused 3149\u001b[K\n",
            "Receiving objects: 100% (3149/3149), 2.94 MiB | 18.68 MiB/s, done.\n",
            "Resolving deltas: 100% (2230/2230), done.\n"
          ],
          "name": "stdout"
        }
      ]
    }
  ]
}